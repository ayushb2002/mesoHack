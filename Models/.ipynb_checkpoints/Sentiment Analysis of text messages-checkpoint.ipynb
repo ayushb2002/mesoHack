{
 "cells": [
  {
   "cell_type": "code",
   "execution_count": 1,
   "id": "c3f05635",
   "metadata": {},
   "outputs": [],
   "source": [
    "import nltk"
   ]
  },
  {
   "cell_type": "markdown",
   "id": "05b86eb6",
   "metadata": {},
   "source": [
    "## NLTK Sentiment Analysis - Data being fetched from NLTK library\n",
    "\n",
    "* names: A list of common English names compiled by Mark Kantrowitz\n",
    "* stopwords: A list of really common words, like articles, pronouns, prepositions, and conjunctions\n",
    "* state_union: A sample of transcribed State of the Union addresses by different US presidents, compiled by Kathleen Ahrens\n",
    "* twitter_samples: A list of social media phrases posted to Twitter\n",
    "* movie_reviews: Two thousand movie reviews categorized by Bo Pang and Lillian Lee\n",
    "* averaged_perceptron_tagger: A data model that NLTK uses to categorize words into their part of speech\n",
    "* vader_lexicon: A scored list of words and jargon that NLTK references when performing sentiment analysis, created by C.J. Hutto and Eric Gilbert\n",
    "* punkt: A data model created by Jan Strunk that NLTK uses to split full texts into word lists"
   ]
  },
  {
   "cell_type": "code",
   "execution_count": 3,
   "id": "6d72ffd5",
   "metadata": {},
   "outputs": [
    {
     "name": "stderr",
     "output_type": "stream",
     "text": [
      "[nltk_data] Downloading package names to\n",
      "[nltk_data]     C:\\Users\\ayush\\AppData\\Roaming\\nltk_data...\n",
      "[nltk_data]   Unzipping corpora\\names.zip.\n",
      "[nltk_data] Downloading package stopwords to\n",
      "[nltk_data]     C:\\Users\\ayush\\AppData\\Roaming\\nltk_data...\n",
      "[nltk_data]   Unzipping corpora\\stopwords.zip.\n",
      "[nltk_data] Downloading package state_union to\n",
      "[nltk_data]     C:\\Users\\ayush\\AppData\\Roaming\\nltk_data...\n",
      "[nltk_data]   Unzipping corpora\\state_union.zip.\n",
      "[nltk_data] Downloading package twitter_samples to\n",
      "[nltk_data]     C:\\Users\\ayush\\AppData\\Roaming\\nltk_data...\n",
      "[nltk_data]   Unzipping corpora\\twitter_samples.zip.\n",
      "[nltk_data] Downloading package movie_reviews to\n",
      "[nltk_data]     C:\\Users\\ayush\\AppData\\Roaming\\nltk_data...\n",
      "[nltk_data]   Unzipping corpora\\movie_reviews.zip.\n",
      "[nltk_data] Downloading package averaged_perceptron_tagger to\n",
      "[nltk_data]     C:\\Users\\ayush\\AppData\\Roaming\\nltk_data...\n",
      "[nltk_data]   Unzipping taggers\\averaged_perceptron_tagger.zip.\n",
      "[nltk_data] Downloading package vader_lexicon to\n",
      "[nltk_data]     C:\\Users\\ayush\\AppData\\Roaming\\nltk_data...\n",
      "[nltk_data] Downloading package punkt to\n",
      "[nltk_data]     C:\\Users\\ayush\\AppData\\Roaming\\nltk_data...\n",
      "[nltk_data]   Unzipping tokenizers\\punkt.zip.\n"
     ]
    },
    {
     "data": {
      "text/plain": [
       "True"
      ]
     },
     "execution_count": 3,
     "metadata": {},
     "output_type": "execute_result"
    }
   ],
   "source": [
    "# nltk.download([\n",
    "#      \"names\",\n",
    "#      \"stopwords\",\n",
    "#      \"state_union\",\n",
    "#      \"twitter_samples\",\n",
    "#      \"movie_reviews\",\n",
    "#      \"averaged_perceptron_tagger\",\n",
    "#      \"vader_lexicon\",\n",
    "#      \"punkt\",\n",
    "# ])"
   ]
  },
  {
   "cell_type": "markdown",
   "id": "900854a7",
   "metadata": {},
   "source": [
    "### Fetching script from state_union collection from NLTK"
   ]
  },
  {
   "cell_type": "code",
   "execution_count": 4,
   "id": "8be7381a",
   "metadata": {},
   "outputs": [],
   "source": [
    "words = [w for w in nltk.corpus.state_union.words() if w.isalpha()]"
   ]
  },
  {
   "cell_type": "code",
   "execution_count": 9,
   "id": "58f168a2",
   "metadata": {},
   "outputs": [],
   "source": [
    "stopwords = nltk.corpus.stopwords.words(\"english\")"
   ]
  },
  {
   "cell_type": "markdown",
   "id": "6337fe84",
   "metadata": {},
   "source": [
    "### Stopwords occur too often in the sentences, thus leaving a negative impact on the sentiment analysis, thus we remove them from our scipts. Also converting all the script to lowecase to avoid mixed cases."
   ]
  },
  {
   "cell_type": "code",
   "execution_count": 11,
   "id": "2c6a4ada",
   "metadata": {},
   "outputs": [],
   "source": [
    "words = [w for w in words if w.lower() not in stopwords]"
   ]
  },
  {
   "cell_type": "markdown",
   "id": "4372f49c",
   "metadata": {},
   "source": [
    "### Now we determine the frequency of words and create a dictionary of key->words and value->frequency and run analysis on it"
   ]
  },
  {
   "cell_type": "code",
   "execution_count": 15,
   "id": "4df52179",
   "metadata": {},
   "outputs": [],
   "source": [
    "fd = nltk.FreqDist(words)"
   ]
  },
  {
   "cell_type": "code",
   "execution_count": 23,
   "id": "2798992d",
   "metadata": {},
   "outputs": [
    {
     "data": {
      "text/plain": [
       "[('must', 1568), ('people', 1291), ('world', 1128)]"
      ]
     },
     "execution_count": 23,
     "metadata": {},
     "output_type": "execute_result"
    }
   ],
   "source": [
    "fd.most_common(3)"
   ]
  },
  {
   "cell_type": "code",
   "execution_count": 27,
   "id": "86f302f2",
   "metadata": {},
   "outputs": [
    {
     "name": "stdout",
     "output_type": "stream",
     "text": [
      "   must  people   world    year America      us \n",
      "   1568    1291    1128    1097    1076    1049 \n"
     ]
    }
   ],
   "source": [
    "fd.tabulate(6)"
   ]
  },
  {
   "cell_type": "code",
   "execution_count": 29,
   "id": "61677ea5",
   "metadata": {},
   "outputs": [],
   "source": [
    "lower_fd = nltk.FreqDist([w.lower() for w in fd])"
   ]
  },
  {
   "cell_type": "markdown",
   "id": "66ec0bdd",
   "metadata": {},
   "source": [
    "## Extracting Concordance and Collocations\n",
    "In the context of NLP, a `concordance` is a collection of word locations along with their context. You can use concordances to find:\n",
    "\n",
    "* How many times a word appears\n",
    "* Where each occurrence appears\n",
    "* What words surround each occurrence\n",
    "\n",
    "In NLTK, you can do this by calling `concordance()` To use it, you need an instance of the `nltk.Text` class, which can also be constructed with a word list.\n",
    "\n",
    "Another powerful feature of NLTK is its ability to quickly find `collocations` with simple function calls. Collocations are series of words that frequently appear together in a given text. In the State of the Union corpus, for example, you’d expect to find the words United and States appearing next to each other very often. Those two words appearing together is a collocation.\n",
    "\n",
    "Collocations can be made up of two or more words. NLTK provides classes to handle several types of collocations:\n",
    "\n",
    "* Bigrams: Frequent two-word combinations\n",
    "* Trigrams: Frequent three-word combinations\n",
    "* Quadgrams: Frequent four-word combinations"
   ]
  },
  {
   "cell_type": "code",
   "execution_count": 85,
   "id": "6d80d41f",
   "metadata": {},
   "outputs": [],
   "source": [
    "text = \"\"\"Luck is not a matter of chance. Lucky You!\n",
    "Thomas Jefferson once said, \"I'm a great believer in luck, and I find the harder I work, the more I have of it.\" What, though, is luck? Webster's dictionary suggests that luck is the \"events or circumstances that operate for or against an individual.\"\n",
    "In truth, luck has nothing to do with something operating for or against you. Luck is not a matter of chance. It is a matter of being open to new experiences, perseverance, hard work, and positive thinking.\n",
    "When seventeen-year-old Steven Spielberg spent some time with his cousin in the summer of 1965, they toured Universal pictures. The tram stopped at none of the sound stages. Spielberg snuck off on a bathroom break to watch a bit of the real action. When he encountered an unfamiliar face who demanded to know what he was doing, he told him his story. The man turned out to be the head of the editorial department. Spielberg got a pass to the lot for the very next day and showed a very impressed Chuck Silvers four of his eight-millimeter films. This event was the foot in the door Spielberg needed to start squatting on the lot, a decision that led to his first contract with Universal Studios.\"\"\""
   ]
  },
  {
   "cell_type": "code",
   "execution_count": 86,
   "id": "47984c3b",
   "metadata": {},
   "outputs": [],
   "source": [
    "words: list[str] = nltk.word_tokenize(text)"
   ]
  },
  {
   "cell_type": "code",
   "execution_count": 87,
   "id": "b4c372e9",
   "metadata": {},
   "outputs": [],
   "source": [
    "words = [w for w in words if w.isalpha()]"
   ]
  },
  {
   "cell_type": "code",
   "execution_count": 88,
   "id": "ea985b80",
   "metadata": {},
   "outputs": [],
   "source": [
    "words = [w for w in words if w.lower() not in stopwords]"
   ]
  },
  {
   "cell_type": "code",
   "execution_count": 89,
   "id": "1499a0b5",
   "metadata": {},
   "outputs": [],
   "source": [
    "text = nltk.Text(words)"
   ]
  },
  {
   "cell_type": "code",
   "execution_count": 90,
   "id": "3051ad68",
   "metadata": {},
   "outputs": [],
   "source": [
    "fd = text.vocab() # same as FreqDist"
   ]
  },
  {
   "cell_type": "code",
   "execution_count": 91,
   "id": "7e12d369",
   "metadata": {},
   "outputs": [
    {
     "name": "stdout",
     "output_type": "stream",
     "text": [
      "     luck Spielberg    matter \n",
      "        4         4         3 \n"
     ]
    }
   ],
   "source": [
    "fd.tabulate(3)"
   ]
  },
  {
   "cell_type": "code",
   "execution_count": 94,
   "id": "6e608fa5",
   "metadata": {},
   "outputs": [],
   "source": [
    "concordance_list = text.concordance_list(\"luck\")"
   ]
  },
  {
   "cell_type": "code",
   "execution_count": 95,
   "id": "f473bf78",
   "metadata": {},
   "outputs": [
    {
     "name": "stdout",
     "output_type": "stream",
     "text": [
      " Luck matter chance Lucky Thomas Jefferson\n",
      "Thomas Jefferson said great believer luck find harder work though luck Webster\n",
      "eliever luck find harder work though luck Webster dictionary suggests luck eve\n",
      "ugh luck Webster dictionary suggests luck events circumstances operate individ\n",
      "rcumstances operate individual truth luck nothing something operating Luck mat\n",
      "uth luck nothing something operating Luck matter chance matter open new experi\n"
     ]
    }
   ],
   "source": [
    "for entry in concordance_list:\n",
    "    print(entry.line)"
   ]
  },
  {
   "cell_type": "code",
   "execution_count": 100,
   "id": "e98a3519",
   "metadata": {},
   "outputs": [],
   "source": [
    "finder = nltk.collocations.TrigramCollocationFinder.from_words(words)"
   ]
  },
  {
   "cell_type": "code",
   "execution_count": 101,
   "id": "c3ac1264",
   "metadata": {},
   "outputs": [
    {
     "data": {
      "text/plain": [
       "[(('Luck', 'matter', 'chance'), 2), (('matter', 'chance', 'Lucky'), 1)]"
      ]
     },
     "execution_count": 101,
     "metadata": {},
     "output_type": "execute_result"
    }
   ],
   "source": [
    "finder.ngram_fd.most_common(2)"
   ]
  },
  {
   "cell_type": "code",
   "execution_count": 102,
   "id": "75f0a163",
   "metadata": {},
   "outputs": [
    {
     "name": "stdout",
     "output_type": "stream",
     "text": [
      " ('Luck', 'matter', 'chance') ('matter', 'chance', 'Lucky') \n",
      "                            2                             1 \n"
     ]
    }
   ],
   "source": [
    "finder.ngram_fd.tabulate(2)"
   ]
  },
  {
   "cell_type": "markdown",
   "id": "c9ff9510",
   "metadata": {},
   "source": [
    "## Using NLTK’s Pre-Trained Sentiment Analyzer\n",
    "NLTK already has a built-in, pretrained sentiment analyzer called VADER (Valence Aware Dictionary and sEntiment Reasoner).\n",
    "\n",
    "Since VADER is pretrained, you can get results more quickly than with many other analyzers. However, VADER is best suited for language used in social media, like short sentences with some slang and abbreviations. It’s less accurate when rating longer, structured sentences, but it’s often a good launching point."
   ]
  },
  {
   "cell_type": "code",
   "execution_count": 103,
   "id": "5e69818a",
   "metadata": {},
   "outputs": [],
   "source": [
    "from nltk.sentiment import SentimentIntensityAnalyzer"
   ]
  },
  {
   "cell_type": "code",
   "execution_count": 104,
   "id": "920fa28a",
   "metadata": {},
   "outputs": [],
   "source": [
    "sia = SentimentIntensityAnalyzer()"
   ]
  },
  {
   "cell_type": "code",
   "execution_count": 110,
   "id": "0e3115b2",
   "metadata": {},
   "outputs": [
    {
     "data": {
      "text/plain": [
       "{'neg': 0.408, 'neu': 0.592, 'pos': 0.0, 'compound': -0.6291}"
      ]
     },
     "execution_count": 110,
     "metadata": {},
     "output_type": "execute_result"
    }
   ],
   "source": [
    "sia.polarity_scores(\"I am very very much angry with you!\")"
   ]
  },
  {
   "cell_type": "markdown",
   "id": "6792ce13",
   "metadata": {},
   "source": [
    "The negative, neutral, and positive scores are related: They all add up to 1 and can’t be negative. The compound score is calculated differently. It’s not just an average, and it can range from -1 to 1."
   ]
  },
  {
   "cell_type": "code",
   "execution_count": 111,
   "id": "88966771",
   "metadata": {},
   "outputs": [],
   "source": [
    "def is_positive(string: str):\n",
    "    sia = SentimentIntensityAnalyzer()\n",
    "    if sia.polarity_scores(string)[\"compound\"] > 0:\n",
    "        return True\n",
    "    else:\n",
    "        return False"
   ]
  },
  {
   "cell_type": "code",
   "execution_count": 114,
   "id": "2e040a1b",
   "metadata": {},
   "outputs": [
    {
     "data": {
      "text/plain": [
       "True"
      ]
     },
     "execution_count": 114,
     "metadata": {},
     "output_type": "execute_result"
    }
   ],
   "source": [
    "is_positive(\"She was saved yesterday!\")"
   ]
  },
  {
   "cell_type": "code",
   "execution_count": null,
   "id": "512de62c",
   "metadata": {},
   "outputs": [],
   "source": []
  }
 ],
 "metadata": {
  "kernelspec": {
   "display_name": "Python 3",
   "language": "python",
   "name": "python3"
  },
  "language_info": {
   "codemirror_mode": {
    "name": "ipython",
    "version": 3
   },
   "file_extension": ".py",
   "mimetype": "text/x-python",
   "name": "python",
   "nbconvert_exporter": "python",
   "pygments_lexer": "ipython3",
   "version": "3.10.4"
  }
 },
 "nbformat": 4,
 "nbformat_minor": 5
}
